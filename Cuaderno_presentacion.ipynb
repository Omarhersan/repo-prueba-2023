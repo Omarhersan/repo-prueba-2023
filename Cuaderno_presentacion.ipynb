{
 "cells": [
  {
   "cell_type": "markdown",
   "id": "7f3ce93b",
   "metadata": {},
   "source": [
    "# Introducción\n",
    "\n",
    "[Wikipedia](https://es.wikipedia.org/wiki/Wikipedia:Portada)\n",
    "\n",
    "\n",
    "\n",
    "\n"
   ]
  },
  {
   "cell_type": "markdown",
   "id": "9056d534-f6e7-4af3-ae22-73add5fea3d6",
   "metadata": {},
   "source": [
    "\n",
    "![imagen](https://oci02.img.iteso.mx/Identidades-De-Instancia/ITESO/Logos%20ITESO/Logo-ITESO-Principal.jpg) \n",
    "\n",
    "1. Primer item\n",
    "2. Segundo\n",
    "3. Tercero\n",
    "\n",
    "+ Item no numerado\n",
    "- Otro item no numerado\n"
   ]
  },
  {
   "cell_type": "markdown",
   "id": "c2bbebf8-921b-4b2d-bf69-8e6e47c86c48",
   "metadata": {},
   "source": [
    "```{python}\n",
    "import pandas as pd\n",
    "import numpy as np\n",
    "import matplotlib.pyplot as plt\n",
    "```"
   ]
  },
  {
   "cell_type": "code",
   "execution_count": null,
   "id": "feea4d44-75ba-4e2b-9200-3c990f2fe903",
   "metadata": {},
   "outputs": [],
   "source": []
  }
 ],
 "metadata": {
  "kernelspec": {
   "display_name": "Python 3 (ipykernel)",
   "language": "python",
   "name": "python3"
  },
  "language_info": {
   "codemirror_mode": {
    "name": "ipython",
    "version": 3
   },
   "file_extension": ".py",
   "mimetype": "text/x-python",
   "name": "python",
   "nbconvert_exporter": "python",
   "pygments_lexer": "ipython3",
   "version": "3.9.13"
  }
 },
 "nbformat": 4,
 "nbformat_minor": 5
}
